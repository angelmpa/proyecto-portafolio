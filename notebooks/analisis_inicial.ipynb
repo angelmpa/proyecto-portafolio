{
 "cells": [
  {
   "cell_type": "code",
   "execution_count": 2,
   "id": "81dafa31-5bb8-46a6-b5a9-6468795ca9bb",
   "metadata": {},
   "outputs": [],
   "source": [
    "import pandas as pd"
   ]
  },
  {
   "cell_type": "code",
   "execution_count": 21,
   "id": "47c9bf27-4f08-41fc-96a3-01925ec8bb62",
   "metadata": {},
   "outputs": [
    {
     "data": {
      "text/html": [
       "<div>\n",
       "<style scoped>\n",
       "    .dataframe tbody tr th:only-of-type {\n",
       "        vertical-align: middle;\n",
       "    }\n",
       "\n",
       "    .dataframe tbody tr th {\n",
       "        vertical-align: top;\n",
       "    }\n",
       "\n",
       "    .dataframe thead th {\n",
       "        text-align: right;\n",
       "    }\n",
       "</style>\n",
       "<table border=\"1\" class=\"dataframe\">\n",
       "  <thead>\n",
       "    <tr style=\"text-align: right;\">\n",
       "      <th></th>\n",
       "      <th>Date</th>\n",
       "      <th>Open</th>\n",
       "      <th>High</th>\n",
       "      <th>Low</th>\n",
       "      <th>Close</th>\n",
       "      <th>Volume</th>\n",
       "      <th>Currency</th>\n",
       "      <th>Name</th>\n",
       "      <th>Symbol</th>\n",
       "    </tr>\n",
       "  </thead>\n",
       "  <tbody>\n",
       "    <tr>\n",
       "      <th>0</th>\n",
       "      <td>2010-07-18</td>\n",
       "      <td>0.0</td>\n",
       "      <td>0.1</td>\n",
       "      <td>0.1</td>\n",
       "      <td>0.1</td>\n",
       "      <td>75</td>\n",
       "      <td>USD</td>\n",
       "      <td>Bitcoin</td>\n",
       "      <td>BTC</td>\n",
       "    </tr>\n",
       "    <tr>\n",
       "      <th>1</th>\n",
       "      <td>2010-07-19</td>\n",
       "      <td>0.1</td>\n",
       "      <td>0.1</td>\n",
       "      <td>0.1</td>\n",
       "      <td>0.1</td>\n",
       "      <td>574</td>\n",
       "      <td>USD</td>\n",
       "      <td>Bitcoin</td>\n",
       "      <td>BTC</td>\n",
       "    </tr>\n",
       "    <tr>\n",
       "      <th>2</th>\n",
       "      <td>2010-07-20</td>\n",
       "      <td>0.1</td>\n",
       "      <td>0.1</td>\n",
       "      <td>0.1</td>\n",
       "      <td>0.1</td>\n",
       "      <td>262</td>\n",
       "      <td>USD</td>\n",
       "      <td>Bitcoin</td>\n",
       "      <td>BTC</td>\n",
       "    </tr>\n",
       "    <tr>\n",
       "      <th>3</th>\n",
       "      <td>2010-07-21</td>\n",
       "      <td>0.1</td>\n",
       "      <td>0.1</td>\n",
       "      <td>0.1</td>\n",
       "      <td>0.1</td>\n",
       "      <td>575</td>\n",
       "      <td>USD</td>\n",
       "      <td>Bitcoin</td>\n",
       "      <td>BTC</td>\n",
       "    </tr>\n",
       "    <tr>\n",
       "      <th>4</th>\n",
       "      <td>2010-07-22</td>\n",
       "      <td>0.1</td>\n",
       "      <td>0.1</td>\n",
       "      <td>0.1</td>\n",
       "      <td>0.1</td>\n",
       "      <td>2160</td>\n",
       "      <td>USD</td>\n",
       "      <td>Bitcoin</td>\n",
       "      <td>BTC</td>\n",
       "    </tr>\n",
       "  </tbody>\n",
       "</table>\n",
       "</div>"
      ],
      "text/plain": [
       "         Date  Open  High  Low  Close  Volume Currency     Name Symbol\n",
       "0  2010-07-18   0.0   0.1  0.1    0.1      75      USD  Bitcoin    BTC\n",
       "1  2010-07-19   0.1   0.1  0.1    0.1     574      USD  Bitcoin    BTC\n",
       "2  2010-07-20   0.1   0.1  0.1    0.1     262      USD  Bitcoin    BTC\n",
       "3  2010-07-21   0.1   0.1  0.1    0.1     575      USD  Bitcoin    BTC\n",
       "4  2010-07-22   0.1   0.1  0.1    0.1    2160      USD  Bitcoin    BTC"
      ]
     },
     "execution_count": 21,
     "metadata": {},
     "output_type": "execute_result"
    }
   ],
   "source": [
    "# Cargar los datos desde el archivo csv\n",
    "btc_data = pd.read_csv('./../data/Bitcoin.csv')\n",
    "eth_data = pd.read_csv('./../data/Ethereum.csv')\n",
    "bnb_data = pd.read_csv('./../data/Binance Coin.csv')\n",
    "\n",
    "# Mostras las primeras filas del dataframe\n",
    "btc_data.head()"
   ]
  },
  {
   "cell_type": "code",
   "execution_count": 22,
   "id": "c89b2b2d",
   "metadata": {},
   "outputs": [],
   "source": [
    "# Convertir las fechas a formato de fechas de Pandas\n",
    "btc_data['Date'] = pd.to_datetime(btc_data['Date'])"
   ]
  },
  {
   "cell_type": "code",
   "execution_count": 23,
   "id": "3e7153c9",
   "metadata": {},
   "outputs": [
    {
     "data": {
      "text/plain": [
       "Date        4420\n",
       "Open        4420\n",
       "High        4420\n",
       "Low         4420\n",
       "Close       4420\n",
       "Volume      4420\n",
       "Currency    4420\n",
       "Name        4420\n",
       "Symbol      4420\n",
       "dtype: int64"
      ]
     },
     "execution_count": 23,
     "metadata": {},
     "output_type": "execute_result"
    }
   ],
   "source": [
    "# Datos nulos\n",
    "btc_data.isnull().count()"
   ]
  },
  {
   "cell_type": "code",
   "execution_count": 24,
   "id": "673dffbf-517d-4954-92da-5057596a3da2",
   "metadata": {},
   "outputs": [
    {
     "name": "stdout",
     "output_type": "stream",
     "text": [
      "<class 'pandas.core.frame.DataFrame'>\n",
      "RangeIndex: 4420 entries, 0 to 4419\n",
      "Data columns (total 9 columns):\n",
      " #   Column    Non-Null Count  Dtype         \n",
      "---  ------    --------------  -----         \n",
      " 0   Date      4420 non-null   datetime64[ns]\n",
      " 1   Open      4420 non-null   float64       \n",
      " 2   High      4420 non-null   float64       \n",
      " 3   Low       4420 non-null   float64       \n",
      " 4   Close     4420 non-null   float64       \n",
      " 5   Volume    4420 non-null   int64         \n",
      " 6   Currency  4420 non-null   object        \n",
      " 7   Name      4420 non-null   object        \n",
      " 8   Symbol    4420 non-null   object        \n",
      "dtypes: datetime64[ns](1), float64(4), int64(1), object(3)\n",
      "memory usage: 310.9+ KB\n"
     ]
    }
   ],
   "source": [
    "# Tipos de datos y el número de valores no nulos en cada columna\n",
    "btc_data.info()"
   ]
  },
  {
   "cell_type": "code",
   "execution_count": 25,
   "id": "e75146cb-017e-4ce2-b217-90b46cdb677a",
   "metadata": {},
   "outputs": [
    {
     "data": {
      "text/html": [
       "<div>\n",
       "<style scoped>\n",
       "    .dataframe tbody tr th:only-of-type {\n",
       "        vertical-align: middle;\n",
       "    }\n",
       "\n",
       "    .dataframe tbody tr th {\n",
       "        vertical-align: top;\n",
       "    }\n",
       "\n",
       "    .dataframe thead th {\n",
       "        text-align: right;\n",
       "    }\n",
       "</style>\n",
       "<table border=\"1\" class=\"dataframe\">\n",
       "  <thead>\n",
       "    <tr style=\"text-align: right;\">\n",
       "      <th></th>\n",
       "      <th>Open</th>\n",
       "      <th>High</th>\n",
       "      <th>Low</th>\n",
       "      <th>Close</th>\n",
       "      <th>Volume</th>\n",
       "    </tr>\n",
       "  </thead>\n",
       "  <tbody>\n",
       "    <tr>\n",
       "      <th>count</th>\n",
       "      <td>4420.000000</td>\n",
       "      <td>4420.000000</td>\n",
       "      <td>4420.000000</td>\n",
       "      <td>4420.000000</td>\n",
       "      <td>4.420000e+03</td>\n",
       "    </tr>\n",
       "    <tr>\n",
       "      <th>mean</th>\n",
       "      <td>8302.221855</td>\n",
       "      <td>8531.971380</td>\n",
       "      <td>8043.473869</td>\n",
       "      <td>8306.969457</td>\n",
       "      <td>1.395788e+07</td>\n",
       "    </tr>\n",
       "    <tr>\n",
       "      <th>std</th>\n",
       "      <td>14598.398937</td>\n",
       "      <td>14992.605971</td>\n",
       "      <td>14146.499234</td>\n",
       "      <td>14599.046649</td>\n",
       "      <td>1.645973e+08</td>\n",
       "    </tr>\n",
       "    <tr>\n",
       "      <th>min</th>\n",
       "      <td>0.000000</td>\n",
       "      <td>0.100000</td>\n",
       "      <td>0.000000</td>\n",
       "      <td>0.100000</td>\n",
       "      <td>0.000000e+00</td>\n",
       "    </tr>\n",
       "    <tr>\n",
       "      <th>25%</th>\n",
       "      <td>122.500000</td>\n",
       "      <td>129.975000</td>\n",
       "      <td>118.300000</td>\n",
       "      <td>122.800000</td>\n",
       "      <td>3.013600e+04</td>\n",
       "    </tr>\n",
       "    <tr>\n",
       "      <th>50%</th>\n",
       "      <td>683.600000</td>\n",
       "      <td>706.500000</td>\n",
       "      <td>657.550000</td>\n",
       "      <td>685.000000</td>\n",
       "      <td>6.762050e+04</td>\n",
       "    </tr>\n",
       "    <tr>\n",
       "      <th>75%</th>\n",
       "      <td>8877.250000</td>\n",
       "      <td>9122.700000</td>\n",
       "      <td>8666.900000</td>\n",
       "      <td>8886.075000</td>\n",
       "      <td>1.769402e+05</td>\n",
       "    </tr>\n",
       "    <tr>\n",
       "      <th>max</th>\n",
       "      <td>67528.700000</td>\n",
       "      <td>68990.600000</td>\n",
       "      <td>66334.900000</td>\n",
       "      <td>67527.900000</td>\n",
       "      <td>4.468697e+09</td>\n",
       "    </tr>\n",
       "  </tbody>\n",
       "</table>\n",
       "</div>"
      ],
      "text/plain": [
       "               Open          High           Low         Close        Volume\n",
       "count   4420.000000   4420.000000   4420.000000   4420.000000  4.420000e+03\n",
       "mean    8302.221855   8531.971380   8043.473869   8306.969457  1.395788e+07\n",
       "std    14598.398937  14992.605971  14146.499234  14599.046649  1.645973e+08\n",
       "min        0.000000      0.100000      0.000000      0.100000  0.000000e+00\n",
       "25%      122.500000    129.975000    118.300000    122.800000  3.013600e+04\n",
       "50%      683.600000    706.500000    657.550000    685.000000  6.762050e+04\n",
       "75%     8877.250000   9122.700000   8666.900000   8886.075000  1.769402e+05\n",
       "max    67528.700000  68990.600000  66334.900000  67527.900000  4.468697e+09"
      ]
     },
     "execution_count": 25,
     "metadata": {},
     "output_type": "execute_result"
    }
   ],
   "source": [
    "# Estadísticas resumidas de las columnas numéricas\n",
    "btc_data.describe()"
   ]
  },
  {
   "cell_type": "code",
   "execution_count": 26,
   "id": "a3379778-2c08-415a-8653-581c785ee3e2",
   "metadata": {},
   "outputs": [
    {
     "data": {
      "image/png": "[encoded data removed]",
      "text/plain": [
       "<Figure size 640x480 with 1 Axes>"
      ]
     },
     "metadata": {},
     "output_type": "display_data"
    }
   ],
   "source": [
    "import matplotlib.pyplot as plt\n",
    "import seaborn as sns\n",
    "\n",
    "# Crear un gráfico de línea para comparar el precio de Bitcoin\n",
    "plt.plot(btc_data['Date'], btc_data['Close'], label = 'Bitcoin')\n",
    "\n",
    "# Configurar el gráfico\n",
    "plt.title('Comparación del precio de Bitcoin')\n",
    "plt.xlabel('Fecha')\n",
    "plt.ylabel('Precio de cierre (USD)')\n",
    "plt.legend()\n",
    "\n",
    "# Mostrar el gráfico\n",
    "plt.show()"
   ]
  },
  {
   "cell_type": "code",
   "execution_count": 27,
   "id": "f53a83eb-11a6-45de-b84f-ade896fe27c3",
   "metadata": {},
   "outputs": [
    {
     "name": "stdout",
     "output_type": "stream",
     "text": [
      "Media Bitcoin : 8306.96945701358\n",
      "Desviación estándar Bitcoin : 14599.046648777088\n"
     ]
    }
   ],
   "source": [
    "# Calcular la media y la desviación estándar del precio de cierre de Bitcoin\n",
    "btc_mean = btc_data['Close'].mean()\n",
    "print('Media Bitcoin :', btc_mean)\n",
    "btc_std = btc_data['Close'].std()\n",
    "print('Desviación estándar Bitcoin :', btc_std)\n",
    "\n",
    "# Calcular la correlación entre el precio de cierre de Bitcoin y Ethereum\n",
    "# btc_eth_corr = btc_data['Close'].corr(eth_data['Close'])\n",
    "# print('Correlación Bitcoin y Ethereum :', btc_eth_corr)"
   ]
  },
  {
   "cell_type": "code",
   "execution_count": null,
   "id": "8cd1fc5e-3fce-47ff-bd3d-ffa60309eed0",
   "metadata": {},
   "outputs": [],
   "source": []
  }
 ],
 "metadata": {
  "kernelspec": {
   "display_name": "Python 3 (ipykernel)",
   "language": "python",
   "name": "python3"
  },
  "language_info": {
   "codemirror_mode": {
    "name": "ipython",
    "version": 3
   },
   "file_extension": ".py",
   "mimetype": "text/x-python",
   "name": "python",
   "nbconvert_exporter": "python",
   "pygments_lexer": "ipython3",
   "version": "3.9.13"
  }
 },
 "nbformat": 4,
 "nbformat_minor": 5
}
